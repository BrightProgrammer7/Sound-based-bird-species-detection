{
 "cells": [
  {
   "cell_type": "code",
   "execution_count": 72,
   "metadata": {},
   "outputs": [],
   "source": [
    "import sys, os\n",
    "import librosa  \n",
    "import ffmpeg\n",
    "import librosa.display\n",
    "import numpy as np\n",
    "import matplotlib.pyplot as plt\n",
    "from matplotlib.pyplot import gcf\n",
    "from tensorflow.keras.models import Model, load_model\n",
    "from tensorflow.keras.layers import Flatten, Dense, Dropout\n",
    "from tensorflow.keras.optimizers import Adam\n",
    "from tensorflow.keras.applications import MobileNetV2\n",
    "from efficientnet.keras import  preprocess_input\n",
    "from keras.preprocessing.image import load_img,img_to_array\n",
    "from PIL import Image"
   ]
  },
  {
   "cell_type": "code",
   "execution_count": 2,
   "metadata": {},
   "outputs": [],
   "source": [
    "signal, sr = librosa.load('1.wav',duration=10)   "
   ]
  },
  {
   "cell_type": "code",
   "execution_count": 3,
   "metadata": {},
   "outputs": [
    {
     "data": {
      "text/plain": [
       "<Figure size 432x288 with 0 Axes>"
      ]
     },
     "metadata": {},
     "output_type": "display_data"
    }
   ],
   "source": [
    "fig = gcf()\n",
    "DPI = fig.get_dpi()"
   ]
  },
  {
   "cell_type": "code",
   "execution_count": 4,
   "metadata": {},
   "outputs": [
    {
     "data": {
      "text/plain": [
       "<matplotlib.axes._axes.Axes at 0x2309fb9ddd8>"
      ]
     },
     "execution_count": 4,
     "metadata": {},
     "output_type": "execute_result"
    },
    {
     "data": {
      "image/png": "[encoded data removed]",
      "text/plain": [
       "<Figure size 224x224 with 1 Axes>"
      ]
     },
     "metadata": {
      "needs_background": "light"
     },
     "output_type": "display_data"
    }
   ],
   "source": [
    "fig = plt.figure()\n",
    "fig.set_size_inches(224/float(DPI),224/float(DPI))\n",
    "ax = plt.Axes(fig, [0., 0., 1., 1.])\n",
    "ax.set_axis_off()\n",
    "fig.add_axes(ax)\n",
    "\n",
    "S = librosa.feature.melspectrogram(y=signal,sr=sr,\n",
    "                                        n_fft=1024,\n",
    "                                        hop_length=1024, \n",
    "                                        n_mels=128, \n",
    "                                        htk=True, \n",
    "                                        fmin=1400, \n",
    "                                        fmax=sr/2) \n",
    "\n",
    "librosa.display.specshow(librosa.power_to_db(S**2,ref=np.max), fmin=1400,y_axis='linear')"
   ]
  },
  {
   "cell_type": "code",
   "execution_count": 95,
   "metadata": {},
   "outputs": [],
   "source": [
    "def fig2data(fig):\n",
    "    fig.canvas.draw()\n",
    "    w,h = fig.canvas.get_width_height()\n",
    "    buf = np.fromstring(fig.canvas.tostring_argb(), dtype=np.uint8)\n",
    "    buf.shape = (w,h,4)\n",
    "    buf = np.roll(buf,3,axis = 2)\n",
    "    return buf"
   ]
  },
  {
   "cell_type": "code",
   "execution_count": 96,
   "metadata": {},
   "outputs": [],
   "source": [
    "def fig2img(fig):\n",
    "    buf = fig2data (fig)\n",
    "    w, h, d = buf.shape\n",
    "    return Image.frombytes( \"RGB\", ( w ,h ), buf.tostring( ) )"
   ]
  },
  {
   "cell_type": "code",
   "execution_count": 97,
   "metadata": {},
   "outputs": [
    {
     "name": "stderr",
     "output_type": "stream",
     "text": [
      "C:\\Users\\Magda\\Anaconda3\\lib\\site-packages\\ipykernel_launcher.py:4: DeprecationWarning: The binary mode of fromstring is deprecated, as it behaves surprisingly on unicode inputs. Use frombuffer instead\n",
      "  after removing the cwd from sys.path.\n"
     ]
    }
   ],
   "source": [
    "image = fig2img(fig)\n",
    "image = img_to_array(test)\n",
    "image = np.array([image]) "
   ]
  },
  {
   "cell_type": "markdown",
   "metadata": {},
   "source": [
    "# Model"
   ]
  },
  {
   "cell_type": "code",
   "execution_count": 91,
   "metadata": {},
   "outputs": [],
   "source": [
    "classes = np.array(['Acroc','Ember','Parus','Phyll','Sylvi'])\n",
    "net = MobileNetV2(include_top=False,\n",
    "                        weights='imagenet',\n",
    "                        input_tensor=None,\n",
    "                        input_shape=(224,224,3))\n",
    "x = net.output\n",
    "x = Flatten()(x)\n",
    "x = Dropout(0.5)(x)\n",
    "output_layer = Dense(5, activation='softmax', name='softmax')(x)\n",
    "loaded_model = Model(inputs=net.input, outputs=output_layer)\n",
    "\n",
    "loaded_model.load_weights('AM_mobilenet_5classes.h5')\n",
    "loaded_model.compile(optimizer=Adam(lr=5e-5),\n",
    "                  loss='categorical_crossentropy', metrics=['accuracy'])"
   ]
  },
  {
   "cell_type": "code",
   "execution_count": 98,
   "metadata": {},
   "outputs": [],
   "source": [
    "pred = loaded_model.predict(image)"
   ]
  },
  {
   "cell_type": "code",
   "execution_count": 103,
   "metadata": {},
   "outputs": [
    {
     "name": "stdout",
     "output_type": "stream",
     "text": [
      "Parus (0.754)\n",
      "Ember (0.149)\n"
     ]
    }
   ],
   "source": [
    "top = np.argsort(pred[0])[:-3:-1]\n",
    "for i in range(2):\n",
    "    print(\"{}\".format(classes[top[i]])+\" ({:.3})\".format(pred[0][top[i]]))"
   ]
  },
  {
   "cell_type": "markdown",
   "metadata": {},
   "source": [
    "# Model2 "
   ]
  },
  {
   "cell_type": "code",
   "execution_count": 39,
   "metadata": {},
   "outputs": [],
   "source": [
    "classes = np.array(['0Parus', '1Turdu', '2Passe', '3Lusci', '4Phoen', '5Erith',\n",
    "               '6Picap', '7Phoen', '8Garru', '9Passe', '10Cocco', '11Sitta',\n",
    "               '12Alaud', '13Strep', '14Phyll', '15Delic','16Turdu', '17Phyll',\n",
    "               '18Fring', '19Sturn', '20Ember', '21Colum', '22Trogl', '23Cardu',\n",
    "               '24Chlor', '25Motac', '26Turdu'])"
   ]
  },
  {
   "cell_type": "code",
   "execution_count": null,
   "metadata": {},
   "outputs": [],
   "source": [
    "net = efn.EfficientNetB3(include_top=False,\n",
    "                        weights='imagenet',\n",
    "                        input_tensor=None,\n",
    "                        input_shape=(224,224,3))\n",
    "x = net.output\n",
    "x = Flatten()(x)\n",
    "x = Dropout(0.5)(x)\n",
    "output_layer = Dense(27, activation='softmax', name='softmax')(x)\n",
    "loaded_model = Model(inputs=net.input, outputs=output_layer)\n",
    "\n",
    "loaded_model.load_weights('EfficientNetB3.h5')\n",
    "loaded_model.compile(optimizer=Adam(lr=5e-5),\n",
    "                  loss='categorical_crossentropy', metrics=['accuracy'])"
   ]
  },
  {
   "cell_type": "code",
   "execution_count": null,
   "metadata": {},
   "outputs": [],
   "source": [
    "pred = loaded_model.predict(image)"
   ]
  },
  {
   "cell_type": "code",
   "execution_count": null,
   "metadata": {},
   "outputs": [],
   "source": [
    "top = np.argsort(pred[0])[:-3:-1]\n",
    "for i in range(2):\n",
    "    print(\"{}\".format(classes[top[i]])+\" ({:.3})\".format(pred[0][top[i]]))"
   ]
  },
  {
   "cell_type": "code",
   "execution_count": null,
   "metadata": {},
   "outputs": [],
   "source": []
  }
 ],
 "metadata": {
  "kernelspec": {
   "display_name": "Python 3",
   "language": "python",
   "name": "python3"
  },
  "language_info": {
   "codemirror_mode": {
    "name": "ipython",
    "version": 3
   },
   "file_extension": ".py",
   "mimetype": "text/x-python",
   "name": "python",
   "nbconvert_exporter": "python",
   "pygments_lexer": "ipython3",
   "version": "3.7.3"
  }
 },
 "nbformat": 4,
 "nbformat_minor": 2
}
